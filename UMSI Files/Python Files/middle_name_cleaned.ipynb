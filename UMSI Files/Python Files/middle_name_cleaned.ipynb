{
 "cells": [
  {
   "cell_type": "code",
   "execution_count": null,
   "metadata": {},
   "outputs": [],
   "source": [
    "# Install and import necessary libraries\n",
    "%pip install fuzzywuzzy\n",
    "\n",
    "import pandas as pd\n",
    "from fuzzywuzzy import fuzz\n",
    "from fuzzywuzzy import process\n",
    "\n",
    "def normalize_name(name):\n",
    "    \"\"\"\n",
    "    Remove middle names or initials from a full name.\n",
    "    Assumes names with more than 2 parts are in the format: First Middle Last.\n",
    "    Returns a simplified version with only first and last names.\n",
    "    \"\"\"\n",
    "    name_parts = name.split()\n",
    "    if len(name_parts) > 2:\n",
    "        name = f\"{name_parts[0]} {name_parts[-1]}\"\n",
    "    return name\n",
    "\n",
    "def standardize_name(name, name_list):\n",
    "    \"\"\"\n",
    "    Standardizes a given name by matching it to the closest name in a list.\n",
    "    Uses fuzzy string matching to find the best match.\n",
    "\n",
    "    Args:\n",
    "        name (str): The original name to standardize.\n",
    "        name_list (list): A list of normalized names to match against.\n",
    "\n",
    "    Returns:\n",
    "        str: The best matched standardized name.\n",
    "    \"\"\"\n",
    "    normalized_name = normalize_name(name)\n",
    "    match = process.extractOne(normalized_name, name_list, scorer=fuzz.ratio)\n",
    "    return match[0]\n",
    "\n",
    "def main():\n",
    "    # Load the dataset\n",
    "    df = pd.read_csv('final_dataset.csv')\n",
    "\n",
    "    # Create a list of unique normalized names for comparison\n",
    "    name_list = df['Name'].apply(normalize_name).unique().tolist()\n",
    "\n",
    "    # Apply standardization to each name in the dataframe\n",
    "    df['standardized_name'] = df['Name'].apply(lambda x: standardize_name(x, name_list))\n",
    "\n",
    "    # Save the updated dataframe to a new CSV file\n",
    "    df.to_csv('final_dataset_standardized_names.csv', index=False)\n",
    "\n",
    "if __name__ == \"__main__\":\n",
    "    main()\n"
   ]
  }
 ],
 "metadata": {
  "kernelspec": {
   "display_name": "Python 3",
   "language": "python",
   "name": "python3"
  },
  "language_info": {
   "codemirror_mode": {
    "name": "ipython",
    "version": 3
   },
   "file_extension": ".py",
   "mimetype": "text/x-python",
   "name": "python",
   "nbconvert_exporter": "python",
   "pygments_lexer": "ipython3",
   "version": "3.11.4"
  },
  "orig_nbformat": 4
 },
 "nbformat": 4,
 "nbformat_minor": 2
}
