{
 "cells": [
  {
   "cell_type": "code",
   "execution_count": null,
   "metadata": {},
   "outputs": [],
   "source": [
    "## Generate keywords from title/abstract using TF-IDF and KeyBERT\n",
    "\n",
    "# Import libraries\n",
    "from sklearn.feature_extraction.text import TfidfVectorizer\n",
    "import pandas as pd\n",
    "from sklearn.feature_extraction.text import TfidfVectorizer\n",
    "from keybert import KeyBERT\n",
    "\n",
    "# Extract keywords from a given text\n",
    "kw_model = KeyBERT()\n",
    "\n",
    "def extract_keywords(text, num_keywords=5):\n",
    "    if pd.isna(text) or text.strip() == \"\":\n",
    "        return None\n",
    "    keywords = kw_model.extract_keywords(text, keyphrase_ngram_range=(1,2), stop_words='english', top_n=num_keywords)\n",
    "    return \", \".join([kw[0] for kw in keywords])\n",
    "\n",
    "# Function that looks at the dataset, sees if there are keywords, if no keywords: scans text/abstract for keywords and inputs them to the dataset\n",
    "\n",
    "def process_csv(file_path, output_path=\"keyword_updated_projects.csv\"):\n",
    "    df = pd.read_csv(file_path)\n",
    "\n",
    "    # Keywords column check\n",
    "    if df['Keywords'] is None or df['Keywords'].empty:\n",
    "        raise ValueError(\"The CSV file does not contain a 'keywords' column.\")\n",
    "\n",
    "    # Apply keyword extraction where keywords are missing\n",
    "    for index, row in df.iterrows():\n",
    "        if pd.isna(row[\"Keywords\"]) or row[\"Keywords\"].strip() == \"\":\n",
    "            # Extracting from the abstract first, fallback to title if empty\n",
    "            check_abstract = extract_keywords(row[\"Abstract\"]) if pd.notna(row[\"Abstract\"]) else None\n",
    "            check_title = extract_keywords(row[\"Title\"]) if pd.notna(row[\"Title\"]) else None\n",
    "\n",
    "            # Combine extracted keywords\n",
    "            keyword_list = []\n",
    "            if check_abstract:\n",
    "                keyword_list.extend(check_abstract.split(\", \"))\n",
    "            if check_title:\n",
    "                keyword_list.extend(check_title.split(\", \"))\n",
    "\n",
    "            combined_keywords = set(filter(None, keyword_list))\n",
    "            df.at[index, \"Keywords\"] = \", \".join(combined_keywords) if combined_keywords else None\n",
    "\n",
    "    df.to_csv(output_path, index=False)\n",
    "    print(f\"Updated file saved as {output_path}\")\n",
    "\n",
    "process_csv('final_dataset.csv')"
   ]
  }
 ],
 "metadata": {
  "kernelspec": {
   "display_name": "base",
   "language": "python",
   "name": "python3"
  },
  "language_info": {
   "codemirror_mode": {
    "name": "ipython",
    "version": 3
   },
   "file_extension": ".py",
   "mimetype": "text/x-python",
   "name": "python",
   "nbconvert_exporter": "python",
   "pygments_lexer": "ipython3",
   "version": "3.12.4"
  }
 },
 "nbformat": 4,
 "nbformat_minor": 2
}
