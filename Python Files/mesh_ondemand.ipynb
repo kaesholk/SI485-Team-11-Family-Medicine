{
 "cells": [
  {
   "cell_type": "markdown",
   "metadata": {},
   "source": [
    "# reverse-engineered request header\n",
    "\n",
    "POST /api/MOD HTTP/1.1\n",
    "Host: meshb.nlm.nih.gov\n",
    "User-Agent: Mozilla/5.0 (Windows NT 10.0; Win64; x64; rv:139.0) Gecko/20100101 Firefox/139.0\n",
    "Accept: */*\n",
    "Accept-Language: en-US,en;q=0.5\n",
    "Accept-Encoding: gzip, deflate, br, zstd\n",
    "Content-Type: application/json\n",
    "Content-Length: 1543\n",
    "Origin: https://meshb.nlm.nih.gov\n",
    "Connection: keep-alive\n",
    "Referer: https://meshb.nlm.nih.gov/MeSHonDemand\n",
    "Cookie: ncbi_sid=9B43766C45BDC433_13076SID\n",
    "Sec-Fetch-Dest: empty\n",
    "Sec-Fetch-Mode: cors\n",
    "Sec-Fetch-Site: same-origin\n",
    "Priority: u=0\n",
    "\n",
    "{\"input\":\"input goes here\"}"
   ]
  },
  {
   "cell_type": "code",
   "execution_count": null,
   "metadata": {},
   "outputs": [
    {
     "data": {
      "text/plain": [
       "<Response [200]>"
      ]
     },
     "execution_count": 3,
     "metadata": {},
     "output_type": "execute_result"
    }
   ],
   "source": [
    "import requests\n",
    "\n",
    "def request_mesh_ondemand(query: str, session_cookie: str = None) -> dict:\n",
    "    url = \"https://meshb.nlm.nih.gov/api/MOD\"\n",
    "    \n",
    "    headers = {\n",
    "        \"User-Agent\": \"Mozilla/5.0 (Windows NT 10.0; Win64; x64; rv:139.0) Gecko/20100101 Firefox/139.0\",\n",
    "        \"Accept\": \"*/*\",\n",
    "        \"Accept-Language\": \"en-US,en;q=0.5\",\n",
    "        \"Content-Type\": \"application/json\",\n",
    "        \"Origin\": \"https://meshb.nlm.nih.gov\",\n",
    "        \"Referer\": \"https://meshb.nlm.nih.gov/MeSHonDemand\",\n",
    "        \"Connection\": \"keep-alive\",\n",
    "        # \"Cookie\": f\"ncbi_sid={session_cookie}\",\n",
    "        \"Sec-Fetch-Dest\": \"empty\",\n",
    "        \"Sec-Fetch-Mode\": \"cors\",\n",
    "        \"Sec-Fetch-Site\": \"same-origin\",\n",
    "        \"Priority\": \"u=0\"\n",
    "    }\n",
    "\n",
    "    payload = {\n",
    "        \"input\": query\n",
    "    }\n",
    "\n",
    "    response = requests.post(url, headers=headers, json=payload)\n",
    "    response.raise_for_status()  # raise an exception on HTTP error\n",
    "\n",
    "    return response\n",
    "\n",
    "abstract = \"Copyright Â© 2024 American Academy of Family Physicians.Testosterone deficiency, or male hypogonadism, is a clinical syndrome that can be defined as persistently low serum testosterone levels in the setting of symptoms consistent with testosterone deficiency. Studies suggest that testosterone replacement therapy may improve sexual function, depressive symptoms, bone density, and lean body mass. Evidence is conflicting regarding its effect on cardiovascular events and mortality. Although prior studies suggested that testosterone replacement therapy increased the risk of cardiovascular disease, a large, randomized trial showed that it does not increase the risk of myocardial infarction or stroke, even in patients at high risk. After a detailed discussion of the potential benefits and risks through shared decision-making, testosterone replacement therapy should be considered for men with testosterone deficiency to correct selected symptoms and induce and maintain secondary sex characteristics. Treatment method should take into consideration patient preference, pharmacokinetics, potential for medication interactions, formulation-specific adverse effects, treatment burden, and cost. Clinicians should monitor men receiving testosterone replacement therapy for symptom improvement, potential adverse effects, and adherence. Serum testosterone, hematocrit, and prostate-specific antigen levels should be measured at baseline and at least annually in men 40 years or older receiving testosterone replacement therapy.\"\n",
    "response = request_mesh_ondemand(abstract)"
   ]
  },
  {
   "cell_type": "code",
   "execution_count": null,
   "metadata": {},
   "outputs": [
    {
     "data": {
      "text/plain": [
       "['Humans',\n",
       " 'Male',\n",
       " 'Cardiovascular Diseases',\n",
       " 'Prostate-Specific Antigen',\n",
       " 'Hematocrit',\n",
       " 'Bone Density',\n",
       " 'Copyright',\n",
       " 'Depression',\n",
       " 'Patient Preference',\n",
       " 'Physicians, Family',\n",
       " 'Sex Characteristics',\n",
       " 'Myocardial Infarction',\n",
       " 'Drug-Related Side Effects and Adverse Reactions',\n",
       " 'Iatrogenic Disease',\n",
       " 'Testosterone',\n",
       " 'Hypogonadism',\n",
       " 'Stroke',\n",
       " 'Risk Assessment']"
      ]
     },
     "execution_count": 11,
     "metadata": {},
     "output_type": "execute_result"
    }
   ],
   "source": [
    "import re\n",
    "from typing import List\n",
    "\n",
    "def extract_mesh_terms(response) -> List[str]:\n",
    "    response_text = response.text\n",
    "    # Find the block between \"-- MeSH Terms --\" and the next \"--\"\n",
    "    pattern = r\"-- MeSH Terms --\\s*(.*?)\\s*--\"\n",
    "    match = re.search(pattern, response_text, re.DOTALL)\n",
    "    if not match:\n",
    "        return []\n",
    "\n",
    "    block = match.group(1)\n",
    "    # Split into lines, strip whitespace, and drop any empty lines\n",
    "    terms = [line.strip() for line in block.splitlines() if line.strip()]\n",
    "    return terms\n",
    "\n",
    "extract_mesh_terms(response)"
   ]
  },
  {
   "cell_type": "markdown",
   "metadata": {},
   "source": [
    "# example keywords generated from the abstract\n",
    "['Humans',\n",
    " 'Male',\n",
    " 'Cardiovascular Diseases',\n",
    " 'Prostate-Specific Antigen',\n",
    " 'Hematocrit',\n",
    " 'Bone Density',\n",
    " 'Copyright',\n",
    " 'Depression',\n",
    " 'Patient Preference',\n",
    " 'Physicians, Family',\n",
    " 'Sex Characteristics',\n",
    " 'Myocardial Infarction',\n",
    " 'Drug-Related Side Effects and Adverse Reactions',\n",
    " 'Iatrogenic Disease',\n",
    " 'Testosterone',\n",
    " 'Hypogonadism',\n",
    " 'Stroke',\n",
    " 'Risk Assessment']"
   ]
  }
 ],
 "metadata": {
  "kernelspec": {
   "display_name": "Python 3",
   "language": "python",
   "name": "python3"
  },
  "language_info": {
   "codemirror_mode": {
    "name": "ipython",
    "version": 3
   },
   "file_extension": ".py",
   "mimetype": "text/x-python",
   "name": "python",
   "nbconvert_exporter": "python",
   "pygments_lexer": "ipython3",
   "version": "3.9.2"
  }
 },
 "nbformat": 4,
 "nbformat_minor": 2
}
